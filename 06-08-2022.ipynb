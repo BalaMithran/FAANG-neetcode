{
 "cells": [
  {
   "cell_type": "code",
   "execution_count": null,
   "metadata": {},
   "outputs": [],
   "source": []
  },
  {
   "cell_type": "markdown",
   "metadata": {},
   "source": [
    "https://leetcode.com/problems/two-sum/"
   ]
  },
  {
   "cell_type": "markdown",
   "metadata": {},
   "source": [
    "hashmap"
   ]
  },
  {
   "cell_type": "code",
   "execution_count": null,
   "metadata": {},
   "outputs": [],
   "source": [
    "class Solution(object):\n",
    "    def twoSum(self, nums, target):\n",
    "        \"\"\"\n",
    "        :type nums: List[int]\n",
    "        :type target: int\n",
    "        :rtype: List[int]\n",
    "        \"\"\"\n",
    "        dict = {}\n",
    "        for index , value in enumerate(nums):\n",
    "            if target-value in dict:\n",
    "                return [dict[target-value] , index]\n",
    "            dict[value] = index\n",
    "            "
   ]
  },
  {
   "cell_type": "markdown",
   "metadata": {},
   "source": [
    "https://leetcode.com/problems/lru-cache/"
   ]
  },
  {
   "cell_type": "markdown",
   "metadata": {},
   "source": [
    "orderer dict"
   ]
  },
  {
   "cell_type": "code",
   "execution_count": null,
   "metadata": {},
   "outputs": [],
   "source": [
    "class LRUCache:\n",
    "\n",
    "    def __init__(self, capacity):\n",
    "        self.dic = collections.OrderedDict()\n",
    "        self.remain = capacity\n",
    "\n",
    "    def get(self, key):\n",
    "        if key not in self.dic:\n",
    "            return -1\n",
    "        v = self.dic.pop(key) \n",
    "        self.dic[key] = v   # set key as the newest one\n",
    "        return v\n",
    "\n",
    "    def put(self, key, value):\n",
    "        if key in self.dic:    \n",
    "            self.dic.pop(key)\n",
    "        else:\n",
    "            if self.remain > 0:\n",
    "                self.remain -= 1  \n",
    "            else:  # self.dic is full\n",
    "                self.dic.popitem(last=False) \n",
    "        self.dic[key] = value\n",
    "\n",
    "# Your LRUCache object will be instantiated and called as such:\n",
    "# obj = LRUCache(capacity)\n",
    "# param_1 = obj.get(key)\n",
    "# obj.put(key,value)"
   ]
  },
  {
   "cell_type": "markdown",
   "metadata": {},
   "source": [
    "Neetcode Q 1"
   ]
  },
  {
   "cell_type": "markdown",
   "metadata": {},
   "source": [
    "class Solution:\n",
    "    def containsDuplicate(self, nums: List[int]) -> bool:\n",
    "        hashset = set()\n",
    "        for num in nums:\n",
    "            if num in hashset:\n",
    "                return True\n",
    "            hashset.add(num)\n",
    "        return False"
   ]
  }
 ],
 "metadata": {
  "kernelspec": {
   "display_name": "Python 3.9.13 64-bit (windows store)",
   "language": "python",
   "name": "python3"
  },
  "language_info": {
   "name": "python",
   "version": "3.9.13"
  },
  "orig_nbformat": 4,
  "vscode": {
   "interpreter": {
    "hash": "18bdbb74570193bdf95a662e2810ebaa62b449cee631906803eb07f9618aaf26"
   }
  }
 },
 "nbformat": 4,
 "nbformat_minor": 2
}
